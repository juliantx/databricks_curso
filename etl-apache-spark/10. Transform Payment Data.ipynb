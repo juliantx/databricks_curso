{
 "cells": [
  {
   "cell_type": "markdown",
   "metadata": {
    "application/vnd.databricks.v1+cell": {
     "cellMetadata": {},
     "inputWidgets": {},
     "nuid": "e0c31b79-d43e-4570-8154-d84b8711b205",
     "showTitle": false,
     "tableResultSettingsMap": {},
     "title": ""
    }
   },
   "source": [
    "# 10. Transform Payment Data"
   ]
  },
  {
   "cell_type": "markdown",
   "metadata": {
    "application/vnd.databricks.v1+cell": {
     "cellMetadata": {},
     "inputWidgets": {},
     "nuid": "9897f158-fc83-411a-9abf-e13474d2e4e1",
     "showTitle": false,
     "tableResultSettingsMap": {},
     "title": ""
    }
   },
   "source": [
    "### 1. Extract Date and Time for payment_timestamp and create new columns payment_date and payment_time"
   ]
  },
  {
   "cell_type": "code",
   "execution_count": 0,
   "metadata": {
    "application/vnd.databricks.v1+cell": {
     "cellMetadata": {
      "byteLimit": 2048000,
      "implicitDf": true,
      "rowLimit": 10000
     },
     "inputWidgets": {},
     "nuid": "b589a5b4-4a32-4bde-b399-a6468e2a8c7d",
     "showTitle": false,
     "tableResultSettingsMap": {},
     "title": ""
    }
   },
   "outputs": [],
   "source": [
    "%sql\n",
    "SELECT * FROM gizmobox.bronze.payments"
   ]
  },
  {
   "cell_type": "code",
   "execution_count": 0,
   "metadata": {
    "application/vnd.databricks.v1+cell": {
     "cellMetadata": {
      "byteLimit": 2048000,
      "implicitDf": true,
      "rowLimit": 10000
     },
     "inputWidgets": {},
     "nuid": "560915bf-8eaf-4a87-9383-18014d979c5b",
     "showTitle": false,
     "tableResultSettingsMap": {
      "0": {
       "dataGridStateBlob": "{\"version\":1,\"tableState\":{\"columnPinning\":{\"left\":[\"#row_number#\"],\"right\":[]},\"columnSizing\":{},\"columnVisibility\":{}},\"settings\":{\"columns\":{}},\"syncTimestamp\":1761022542881}",
       "filterBlob": null,
       "queryPlanFiltersBlob": null,
       "tableResultIndex": 0
      }
     },
     "title": ""
    }
   },
   "outputs": [],
   "source": [
    "%sql\n",
    "SELECT \n",
    "  payment_id,\n",
    "  order_id,\n",
    "  CAST(date_format(payment_timestamp, 'yyyy-MM-dd') AS DATE) AS payment_date,\n",
    "  date_format(payment_timestamp, 'HH:MM:SS') AS payment_time,\n",
    "  payment_status,\n",
    "  payment_method\n",
    "FROM gizmobox.bronze.payments"
   ]
  },
  {
   "cell_type": "markdown",
   "metadata": {
    "application/vnd.databricks.v1+cell": {
     "cellMetadata": {},
     "inputWidgets": {},
     "nuid": "4872284f-a20a-4bab-a4b6-480ddb819cfb",
     "showTitle": false,
     "tableResultSettingsMap": {},
     "title": ""
    }
   },
   "source": [
    "## 2. Map payment status to contain descritive values\n",
    "\n",
    "1. Success\n",
    "2. Pending\n",
    "3. Cancelled\n",
    "4. Failed"
   ]
  },
  {
   "cell_type": "code",
   "execution_count": 0,
   "metadata": {
    "application/vnd.databricks.v1+cell": {
     "cellMetadata": {
      "byteLimit": 2048000,
      "implicitDf": true,
      "rowLimit": 10000
     },
     "inputWidgets": {},
     "nuid": "a3e22be1-c35d-4f65-b060-5f34585cc79d",
     "showTitle": false,
     "tableResultSettingsMap": {},
     "title": ""
    }
   },
   "outputs": [],
   "source": [
    "%sql\n",
    "SELECT \n",
    "  payment_id,\n",
    "  order_id,\n",
    "  CAST(date_format(payment_timestamp, 'yyyy-MM-dd') AS DATE) AS payment_date,\n",
    "  date_format(payment_timestamp, 'HH:MM:SS') AS payment_time,\n",
    "  CASE payment_status\n",
    "    WHEN 1 THEN 'Success'\n",
    "    WHEN 2 THEN 'Pending'\n",
    "    WHEN 3 THEN 'Cancelled'\n",
    "    WHEN 4 THEN 'Failed'\n",
    "  END AS payment_status,\n",
    "  payment_method\n",
    "FROM gizmobox.bronze.payments"
   ]
  },
  {
   "cell_type": "markdown",
   "metadata": {
    "application/vnd.databricks.v1+cell": {
     "cellMetadata": {},
     "inputWidgets": {},
     "nuid": "fac0ce82-a93c-49ae-834e-afd0294ca56b",
     "showTitle": false,
     "tableResultSettingsMap": {},
     "title": ""
    }
   },
   "source": [
    "## 3. Write tranformated data to silver schema"
   ]
  },
  {
   "cell_type": "code",
   "execution_count": 0,
   "metadata": {
    "application/vnd.databricks.v1+cell": {
     "cellMetadata": {
      "byteLimit": 2048000,
      "implicitDf": true,
      "rowLimit": 10000
     },
     "inputWidgets": {},
     "nuid": "3138f330-5bb3-4ad4-b27e-986d088a0e73",
     "showTitle": false,
     "tableResultSettingsMap": {},
     "title": ""
    }
   },
   "outputs": [],
   "source": [
    "%sql\n",
    "CREATE  OR REPLACE TABLE gizmobox.silver.payments\n",
    "AS\n",
    "SELECT \n",
    "  payment_id,\n",
    "  order_id,\n",
    "  CAST(date_format(payment_timestamp, 'yyyy-MM-dd') AS DATE) AS payment_date,\n",
    "  date_format(payment_timestamp, 'HH:MM:SS') AS payment_time,\n",
    "  CASE payment_status\n",
    "    WHEN 1 THEN 'Success'\n",
    "    WHEN 2 THEN 'Pending'\n",
    "    WHEN 3 THEN 'Cancelled'\n",
    "    WHEN 4 THEN 'Failed'\n",
    "  END AS payment_status,\n",
    "  payment_method\n",
    "FROM gizmobox.bronze.payments"
   ]
  },
  {
   "cell_type": "code",
   "execution_count": 0,
   "metadata": {
    "application/vnd.databricks.v1+cell": {
     "cellMetadata": {
      "byteLimit": 2048000,
      "implicitDf": true,
      "rowLimit": 10000
     },
     "inputWidgets": {},
     "nuid": "e8236810-92a7-47f3-86ca-5d2ae7b7e24b",
     "showTitle": false,
     "tableResultSettingsMap": {},
     "title": ""
    }
   },
   "outputs": [],
   "source": [
    "%sql\n",
    "SELECT * FROM gizmobox.silver.payments;"
   ]
  }
 ],
 "metadata": {
  "application/vnd.databricks.v1+notebook": {
   "computePreferences": null,
   "dashboards": [],
   "environmentMetadata": {
    "base_environment": "",
    "environment_version": "4"
   },
   "inputWidgetPreferences": null,
   "language": "python",
   "notebookMetadata": {
    "mostRecentlyExecutedCommandWithImplicitDF": {
     "commandId": 5034564359281636,
     "dataframes": [
      "_sqldf"
     ]
    },
    "pythonIndentUnit": 4
   },
   "notebookName": "10. Transform Payment Data",
   "widgets": {}
  },
  "language_info": {
   "name": "python"
  }
 },
 "nbformat": 4,
 "nbformat_minor": 0
}
