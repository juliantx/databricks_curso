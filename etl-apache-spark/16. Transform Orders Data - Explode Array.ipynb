{
 "cells": [
  {
   "cell_type": "markdown",
   "metadata": {
    "application/vnd.databricks.v1+cell": {
     "cellMetadata": {},
     "inputWidgets": {},
     "nuid": "5416e747-05d3-4c7a-ac7d-90ecfc8c679c",
     "showTitle": false,
     "tableResultSettingsMap": {},
     "title": ""
    }
   },
   "source": [
    "# 16. Transform Orders Data - Explode Array"
   ]
  },
  {
   "cell_type": "code",
   "execution_count": 0,
   "metadata": {
    "application/vnd.databricks.v1+cell": {
     "cellMetadata": {
      "byteLimit": 2048000,
      "implicitDf": true,
      "rowLimit": 10000
     },
     "inputWidgets": {},
     "nuid": "5af348f2-fff8-462d-a5fa-a93fc28ed390",
     "showTitle": false,
     "tableResultSettingsMap": {},
     "title": ""
    }
   },
   "outputs": [],
   "source": [
    "%sql\n",
    "SELECT * FROM gizmobox.silver.orders_json;"
   ]
  },
  {
   "cell_type": "markdown",
   "metadata": {
    "application/vnd.databricks.v1+cell": {
     "cellMetadata": {},
     "inputWidgets": {},
     "nuid": "946170c3-1d0b-4a0d-bda9-91b8cecc8839",
     "showTitle": false,
     "tableResultSettingsMap": {},
     "title": ""
    }
   },
   "source": [
    "## 1. Access elemet JSON Object"
   ]
  },
  {
   "cell_type": "code",
   "execution_count": 0,
   "metadata": {
    "application/vnd.databricks.v1+cell": {
     "cellMetadata": {
      "byteLimit": 2048000,
      "implicitDf": true,
      "rowLimit": 10000
     },
     "inputWidgets": {},
     "nuid": "9a88ee0d-4641-47f6-b62a-3e110625255a",
     "showTitle": false,
     "tableResultSettingsMap": {},
     "title": ""
    }
   },
   "outputs": [],
   "source": [
    "%sql\n",
    "SELECT \n",
    "  json_value.order_id,\n",
    "  json_value.order_status,\n",
    "  json_value.payment_method,\n",
    "  json_value.total_amount,\n",
    "  json_value.transaction_timestamp,\n",
    "  json_value.customer_id,\n",
    "  json_value.items\n",
    " FROM gizmobox.silver.orders_json;"
   ]
  },
  {
   "cell_type": "markdown",
   "metadata": {
    "application/vnd.databricks.v1+cell": {
     "cellMetadata": {},
     "inputWidgets": {},
     "nuid": "ad0ecdee-38a7-430d-983a-8c0f2b48d624",
     "showTitle": false,
     "tableResultSettingsMap": {},
     "title": ""
    }
   },
   "source": [
    "## 2. Deduplicate array elements"
   ]
  },
  {
   "cell_type": "code",
   "execution_count": 0,
   "metadata": {
    "application/vnd.databricks.v1+cell": {
     "cellMetadata": {
      "byteLimit": 2048000,
      "implicitDf": true,
      "rowLimit": 10000
     },
     "inputWidgets": {},
     "nuid": "1bb0bd62-bda7-4923-858c-ce32d189325e",
     "showTitle": false,
     "tableResultSettingsMap": {},
     "title": ""
    }
   },
   "outputs": [],
   "source": [
    "%sql\n",
    "SELECT \n",
    "  json_value.order_id,\n",
    "  json_value.order_status,\n",
    "  json_value.payment_method,\n",
    "  json_value.total_amount,\n",
    "  json_value.transaction_timestamp,\n",
    "  json_value.customer_id,\n",
    "  array_distinct(json_value.items) as items\n",
    " FROM gizmobox.silver.orders_json;"
   ]
  },
  {
   "cell_type": "markdown",
   "metadata": {
    "application/vnd.databricks.v1+cell": {
     "cellMetadata": {},
     "inputWidgets": {},
     "nuid": "3ab82b98-f909-4788-b0a3-a74c51c4d828",
     "showTitle": false,
     "tableResultSettingsMap": {},
     "title": ""
    }
   },
   "source": [
    "## 3. Explode Arrays"
   ]
  },
  {
   "cell_type": "code",
   "execution_count": 0,
   "metadata": {
    "application/vnd.databricks.v1+cell": {
     "cellMetadata": {
      "byteLimit": 2048000,
      "implicitDf": true,
      "rowLimit": 10000
     },
     "inputWidgets": {},
     "nuid": "3c74c578-3dbf-40e0-87a1-cc332cd4b5cd",
     "showTitle": false,
     "tableResultSettingsMap": {},
     "title": ""
    }
   },
   "outputs": [],
   "source": [
    "%sql\n",
    "SELECT \n",
    "  json_value.order_id,\n",
    "  json_value.order_status,\n",
    "  json_value.payment_method,\n",
    "  json_value.total_amount,\n",
    "  json_value.transaction_timestamp,\n",
    "  json_value.customer_id,\n",
    "  explode(array_distinct(json_value.items)) as items\n",
    " FROM gizmobox.silver.orders_json;"
   ]
  },
  {
   "cell_type": "code",
   "execution_count": 0,
   "metadata": {
    "application/vnd.databricks.v1+cell": {
     "cellMetadata": {
      "byteLimit": 2048000,
      "implicitDf": true,
      "rowLimit": 10000
     },
     "inputWidgets": {},
     "nuid": "e2f71977-c8c0-49e6-bf38-cc49e60bd450",
     "showTitle": false,
     "tableResultSettingsMap": {},
     "title": ""
    }
   },
   "outputs": [],
   "source": [
    "%sql\n",
    "CREATE OR REPLACE TEMP VIEW tv_orders_explodes\n",
    "AS\n",
    "SELECT \n",
    "  json_value.order_id,\n",
    "  json_value.order_status,\n",
    "  json_value.payment_method,\n",
    "  json_value.total_amount,\n",
    "  json_value.transaction_timestamp,\n",
    "  json_value.customer_id,\n",
    "  explode(array_distinct(json_value.items)) as items\n",
    " FROM gizmobox.silver.orders_json;"
   ]
  },
  {
   "cell_type": "code",
   "execution_count": 0,
   "metadata": {
    "application/vnd.databricks.v1+cell": {
     "cellMetadata": {
      "byteLimit": 2048000,
      "implicitDf": true,
      "rowLimit": 10000
     },
     "inputWidgets": {},
     "nuid": "84e2e64e-cd34-4276-be95-26b655c527c7",
     "showTitle": false,
     "tableResultSettingsMap": {},
     "title": ""
    }
   },
   "outputs": [],
   "source": [
    "%sql\n",
    "SELECT \n",
    "    order_id,\n",
    "    order_status,\n",
    "    payment_method,\n",
    "    total_amount,\n",
    "    transaction_timestamp,\n",
    "    customer_id,\n",
    "    items.item_id,\n",
    "    items.name,\n",
    "    items.price,\n",
    "    items.quantity,\n",
    "    items.category,\n",
    "    items.details.brand,\n",
    "    items.details.color\n",
    "FROM tv_orders_explodes"
   ]
  },
  {
   "cell_type": "markdown",
   "metadata": {
    "application/vnd.databricks.v1+cell": {
     "cellMetadata": {},
     "inputWidgets": {},
     "nuid": "bd388d94-226a-4e32-b1bf-37b59cd869f8",
     "showTitle": false,
     "tableResultSettingsMap": {},
     "title": ""
    }
   },
   "source": [
    "## Create Silver Table"
   ]
  },
  {
   "cell_type": "code",
   "execution_count": 0,
   "metadata": {
    "application/vnd.databricks.v1+cell": {
     "cellMetadata": {
      "byteLimit": 2048000,
      "implicitDf": true,
      "rowLimit": 10000
     },
     "inputWidgets": {},
     "nuid": "3a800b41-5b37-4ee8-b1ec-ed1f74c4bdab",
     "showTitle": false,
     "tableResultSettingsMap": {},
     "title": ""
    }
   },
   "outputs": [],
   "source": [
    "%sql\n",
    "CREATE TABLE IF NOT EXISTS gizmobox.silver.orders\n",
    "SELECT \n",
    "    order_id,\n",
    "    order_status,\n",
    "    payment_method,\n",
    "    total_amount,\n",
    "    transaction_timestamp,\n",
    "    customer_id,\n",
    "    items.item_id,\n",
    "    items.name,\n",
    "    items.price,\n",
    "    items.quantity,\n",
    "    items.category,\n",
    "    items.details.brand,\n",
    "    items.details.color\n",
    "FROM tv_orders_explodes"
   ]
  },
  {
   "cell_type": "code",
   "execution_count": 0,
   "metadata": {
    "application/vnd.databricks.v1+cell": {
     "cellMetadata": {
      "byteLimit": 2048000,
      "implicitDf": true,
      "rowLimit": 10000
     },
     "inputWidgets": {},
     "nuid": "4931a542-3424-484f-9653-9374c79485cf",
     "showTitle": false,
     "tableResultSettingsMap": {},
     "title": ""
    }
   },
   "outputs": [],
   "source": [
    "%sql\n",
    "SELECT * FROM gizmobox.silver.orders"
   ]
  }
 ],
 "metadata": {
  "application/vnd.databricks.v1+notebook": {
   "computePreferences": null,
   "dashboards": [],
   "environmentMetadata": {
    "base_environment": "",
    "environment_version": "4"
   },
   "inputWidgetPreferences": null,
   "language": "python",
   "notebookMetadata": {
    "mostRecentlyExecutedCommandWithImplicitDF": {
     "commandId": 7601515611008201,
     "dataframes": [
      "_sqldf"
     ]
    },
    "pythonIndentUnit": 4
   },
   "notebookName": "16. Transform Orders Data - Explode Array",
   "widgets": {}
  },
  "language_info": {
   "name": "python"
  }
 },
 "nbformat": 4,
 "nbformat_minor": 0
}
